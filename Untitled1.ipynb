{
 "cells": [
  {
   "cell_type": "code",
   "execution_count": 1,
   "metadata": {},
   "outputs": [],
   "source": [
    "import pandas as pd\n",
    "from sklearn.preprocessing import StandardScaler\n",
    "eurusd_D15 = pd.read_csv('./data/EURUSD15.csv')"
   ]
  },
  {
   "cell_type": "code",
   "execution_count": 2,
   "metadata": {},
   "outputs": [],
   "source": [
    "df = []\n",
    "for i in eurusd_D15.values:\n",
    "    df.append(str(i).replace(\"['\", \"\").replace(\"']\", \"\").split(\"\\\\t\"))\n",
    "    \n",
    "data = pd.DataFrame(df, columns=['Date', 'Open', 'High', 'Low', 'Close', 'Volume'])"
   ]
  },
  {
   "cell_type": "code",
   "execution_count": 3,
   "metadata": {},
   "outputs": [],
   "source": [
    "data = data.set_index('Date')\n",
    "for i in data:\n",
    "    data[i] = data[i].astype(float)"
   ]
  },
  {
   "cell_type": "code",
   "execution_count": 4,
   "metadata": {},
   "outputs": [],
   "source": [
    "data['Close_Tomorrow'] = data['Close'].shift(-1)\n",
    "data['Return'] = data['Close_Tomorrow'] - data['Close']"
   ]
  },
  {
   "cell_type": "code",
   "execution_count": 5,
   "metadata": {},
   "outputs": [],
   "source": [
    "scaler = StandardScaler()\n",
    "for c in data.columns:\n",
    "    data[c+'_Norm'] = scaler.fit_transform(data[c].to_numpy().reshape(-1, 1))\n",
    "data = data.dropna()"
   ]
  },
  {
   "cell_type": "code",
   "execution_count": null,
   "metadata": {},
   "outputs": [],
   "source": [
    "train = data.iloc[:35000, :]\n",
    "train_x = data[['Open_Norm','High_Norm','Low_Norm','Close_Norm','Volume_Norm']].to_numpy()\n",
    "train_y = data[['Return_Norm']].to_numpy()\n",
    "val = data.iloc[35000:45000, :]\n",
    "val_x = val[['Open_Norm','High_Norm','Low_Norm','Close_Norm','Volume_Norm']].to_numpy()\n",
    "val_y = val[['Return_Norm']].to_numpy()\n",
    "test = data.iloc[45000:, :]\n",
    "test_x = test[['Open_Norm','High_Norm','Low_Norm','Close_Norm','Volume_Norm']]\n",
    "test_y = test[['Return_Norm', 'Return']]\n"
   ]
  },
  {
   "cell_type": "code",
   "execution_count": 18,
   "metadata": {},
   "outputs": [
    {
     "name": "stdout",
     "output_type": "stream",
     "text": [
      "Name: Keras\r\n",
      "Version: 2.4.3\r\n",
      "Summary: Deep Learning for humans\r\n",
      "Home-page: https://github.com/keras-team/keras\r\n",
      "Author: Francois Chollet\r\n",
      "Author-email: francois.chollet@gmail.com\r\n",
      "License: MIT\r\n",
      "Location: /home/ds_magico/anaconda3/lib/python3.7/site-packages\r\n",
      "Requires: pyyaml, h5py, numpy, scipy\r\n",
      "Required-by: \r\n"
     ]
    }
   ],
   "source": [
    "!pip3 show keras"
   ]
  },
  {
   "cell_type": "code",
   "execution_count": 17,
   "metadata": {
    "scrolled": true
   },
   "outputs": [
    {
     "ename": "ModuleNotFoundError",
     "evalue": "No module named 'keras'",
     "output_type": "error",
     "traceback": [
      "\u001b[0;31m---------------------------------------------------------------------------\u001b[0m",
      "\u001b[0;31mModuleNotFoundError\u001b[0m                       Traceback (most recent call last)",
      "\u001b[0;32m<ipython-input-17-5be50c5c6bb3>\u001b[0m in \u001b[0;36m<module>\u001b[0;34m\u001b[0m\n\u001b[0;32m----> 1\u001b[0;31m \u001b[0;32mimport\u001b[0m \u001b[0mkeras\u001b[0m\u001b[0;34m\u001b[0m\u001b[0;34m\u001b[0m\u001b[0m\n\u001b[0m\u001b[1;32m      2\u001b[0m \u001b[0;31m# from tensorflow.keras.models import Sequential\u001b[0m\u001b[0;34m\u001b[0m\u001b[0;34m\u001b[0m\u001b[0;34m\u001b[0m\u001b[0m\n\u001b[1;32m      3\u001b[0m \u001b[0;31m# from tensorflow.keras import layers\u001b[0m\u001b[0;34m\u001b[0m\u001b[0;34m\u001b[0m\u001b[0;34m\u001b[0m\u001b[0m\n\u001b[1;32m      4\u001b[0m \u001b[0;31m# from tensorflow.keras.layers import Dense\u001b[0m\u001b[0;34m\u001b[0m\u001b[0;34m\u001b[0m\u001b[0;34m\u001b[0m\u001b[0m\n",
      "\u001b[0;31mModuleNotFoundError\u001b[0m: No module named 'keras'"
     ]
    }
   ],
   "source": [
    "import keras\n",
    "# from tensorflow.keras.models import Sequential\n",
    "# from tensorflow.keras import layers\n",
    "# from tensorflow.keras.layers import Dense"
   ]
  },
  {
   "cell_type": "code",
   "execution_count": null,
   "metadata": {},
   "outputs": [],
   "source": [
    "model = models.Sequential()\n",
    "model.add(layers.Dense(30, input_dim = train_x.shape[1], activation = \"relu\"))\n",
    "model.add(layers.Dense(30, activation =\"relu\"))\n",
    "model.add(layers.Dense(30, activation =\"relu\"))\n",
    "model.add(layers.Dense(1))  \n",
    "model.summary()\n",
    "model.compile(\n",
    "    optimizer = 'adam',\n",
    "    loss = 'mean_squared_error', #mean_squared_error\n",
    ")\n",
    "\n",
    "results = model.fit(\n",
    "train_x, train_y,\n",
    "epochs= 1000,\n",
    "batch_size = 128,\n",
    "validation_data = (val_x, val_y),\n",
    "    verbose = 0\n",
    ")\n",
    "plt.plot(results.history[\"loss\"], label=\"loss\")\n",
    "plt.plot(results.history[\"val_loss\"], label=\"val_loss\")\n",
    "plt.legend()\n",
    "plt.show()"
   ]
  }
 ],
 "metadata": {
  "kernelspec": {
   "display_name": "Python 3.8.5 64-bit",
   "language": "python",
   "name": "python38564bit74a4c3c6ad264958989e2d7051782533"
  },
  "language_info": {
   "codemirror_mode": {
    "name": "ipython",
    "version": 3
   },
   "file_extension": ".py",
   "mimetype": "text/x-python",
   "name": "python",
   "nbconvert_exporter": "python",
   "pygments_lexer": "ipython3",
   "version": "3.8.5"
  }
 },
 "nbformat": 4,
 "nbformat_minor": 4
}
